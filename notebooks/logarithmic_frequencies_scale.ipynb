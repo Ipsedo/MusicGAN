{
 "cells": [
  {
   "cell_type": "code",
   "execution_count": 1,
   "id": "b1df3725",
   "metadata": {},
   "outputs": [],
   "source": [
    "import torch as th\n",
    "import torch.nn.functional as th_f\n",
    "import torchaudio as th_audio\n",
    "import torchaudio.functional as th_audio_f\n",
    "\n",
    "import torch_scatter\n",
    "\n",
    "import numpy as np\n",
    "\n",
    "import matplotlib.pyplot as plt\n",
    "\n",
    "from tqdm import tqdm"
   ]
  },
  {
   "cell_type": "code",
   "execution_count": 2,
   "id": "a0af3ae9",
   "metadata": {},
   "outputs": [],
   "source": [
    "wav_path = \"/home/samuel/Téléchargements/06 D'yer Mak'er.wav\""
   ]
  },
  {
   "cell_type": "code",
   "execution_count": 3,
   "id": "b7d73f18",
   "metadata": {},
   "outputs": [],
   "source": [
    "raw_audio, _ = th_audio.load(wav_path)"
   ]
  },
  {
   "cell_type": "code",
   "execution_count": 4,
   "id": "10370249",
   "metadata": {},
   "outputs": [],
   "source": [
    "raw_audio_mono = raw_audio.mean(0)[:44100 * 30]"
   ]
  },
  {
   "cell_type": "code",
   "execution_count": 5,
   "id": "91c9bd5d",
   "metadata": {},
   "outputs": [],
   "source": [
    "nperseg = 2 ** 12\n",
    "\n",
    "stride = 2 ** 8"
   ]
  },
  {
   "cell_type": "code",
   "execution_count": 6,
   "id": "124a5940",
   "metadata": {},
   "outputs": [
    {
     "name": "stdout",
     "output_type": "stream",
     "text": [
      "4096\n",
      "256\n"
     ]
    }
   ],
   "source": [
    "print(nperseg)\n",
    "print(stride)"
   ]
  },
  {
   "cell_type": "code",
   "execution_count": 7,
   "id": "51a36ad4",
   "metadata": {},
   "outputs": [],
   "source": [
    "hann_window = th.hann_window(nperseg)\n",
    "\n",
    "complex_values = th_audio_f.spectrogram(\n",
    "    raw_audio_mono,\n",
    "    pad=0, window=hann_window,\n",
    "    n_fft=nperseg, hop_length=stride, win_length=nperseg,\n",
    "    power=None, normalized=True,\n",
    "    return_complex=True\n",
    ")"
   ]
  },
  {
   "cell_type": "code",
   "execution_count": 8,
   "id": "c859f10f",
   "metadata": {},
   "outputs": [
    {
     "data": {
      "text/plain": [
       "torch.Size([2049, 5168])"
      ]
     },
     "execution_count": 8,
     "metadata": {},
     "output_type": "execute_result"
    }
   ],
   "source": [
    "complex_values.size()"
   ]
  },
  {
   "cell_type": "code",
   "execution_count": 9,
   "id": "aee900ab",
   "metadata": {},
   "outputs": [],
   "source": [
    "complex_without_nyquist = complex_values[:-1, :]"
   ]
  },
  {
   "cell_type": "code",
   "execution_count": 10,
   "id": "f54ff6c6",
   "metadata": {},
   "outputs": [],
   "source": [
    "magn = th.abs(complex_without_nyquist)\n",
    "phase = th.angle(complex_without_nyquist)"
   ]
  },
  {
   "cell_type": "code",
   "execution_count": 11,
   "id": "cba52092",
   "metadata": {},
   "outputs": [],
   "source": [
    "def diff(x: th.Tensor) -> th.Tensor:\n",
    "    \"\"\"\n",
    "\n",
    "    :param x:\n",
    "    :type x:\n",
    "    :return:\n",
    "    :rtype:\n",
    "    \"\"\"\n",
    "    return th_f.pad(x[1:, :] - x[:-1, :], (0, 0, 1, 0), \"constant\", 0)\n",
    "\n",
    "\n",
    "def unwrap(phi: th.Tensor) -> th.Tensor:\n",
    "    \"\"\"\n",
    "\n",
    "    :param phi:\n",
    "    :type phi:\n",
    "    :return:\n",
    "    :rtype:\n",
    "    \"\"\"\n",
    "    dphi = diff(phi)\n",
    "    dphi_m = ((dphi + np.pi) % (2 * np.pi)) - np.pi\n",
    "    dphi_m[(dphi_m == -np.pi) & (dphi > 0)] = np.pi\n",
    "    phi_adj = dphi_m - dphi\n",
    "    phi_adj[dphi.abs() < np.pi] = 0\n",
    "    return phi + phi_adj.cumsum(0)"
   ]
  },
  {
   "cell_type": "code",
   "execution_count": 12,
   "id": "96fe9744",
   "metadata": {},
   "outputs": [],
   "source": [
    "phase = unwrap(phase)\n",
    "phase = phase[:, 1:] - phase[:, :-1]\n",
    "\n",
    "magn = magn[:, 1:]"
   ]
  },
  {
   "cell_type": "code",
   "execution_count": 13,
   "id": "2b471236",
   "metadata": {},
   "outputs": [],
   "source": [
    "n_bins = magn.size()[0]\n",
    "\n",
    "required_length = 512"
   ]
  },
  {
   "cell_type": "markdown",
   "id": "6b3bea23",
   "metadata": {},
   "source": [
    "# Mel"
   ]
  },
  {
   "cell_type": "code",
   "execution_count": 14,
   "id": "5a0dc279",
   "metadata": {},
   "outputs": [],
   "source": [
    "min_hz = 0.\n",
    "max_hz = 44100 // 2"
   ]
  },
  {
   "cell_type": "code",
   "execution_count": 15,
   "id": "6fca507d",
   "metadata": {},
   "outputs": [],
   "source": [
    "def hz2mel(hz):\n",
    "    return 2595. * th.log(th.tensor(1.) + hz / 700.) / th.log(th.tensor(10.))\n",
    "\n",
    "def mel2hz(erb):\n",
    "    return (10. ** (erb / 2595.) - 1.) * 700."
   ]
  },
  {
   "cell_type": "code",
   "execution_count": 16,
   "id": "cb9fdf74",
   "metadata": {},
   "outputs": [],
   "source": [
    "min_mel = hz2mel(th.tensor(min_hz))\n",
    "max_mel = hz2mel(th.tensor(max_hz))"
   ]
  },
  {
   "cell_type": "code",
   "execution_count": 17,
   "id": "7ae50b8c",
   "metadata": {},
   "outputs": [
    {
     "data": {
      "text/plain": [
       "(tensor(0.), tensor(3923.3374))"
      ]
     },
     "execution_count": 17,
     "metadata": {},
     "output_type": "execute_result"
    }
   ],
   "source": [
    "min_mel, max_mel"
   ]
  },
  {
   "cell_type": "code",
   "execution_count": 18,
   "id": "b593967e",
   "metadata": {},
   "outputs": [],
   "source": [
    "bucket_boundaries = mel2hz(th.linspace(min_mel, max_mel, required_length))"
   ]
  },
  {
   "cell_type": "markdown",
   "id": "cdd59d35",
   "metadata": {},
   "source": [
    "# ERB"
   ]
  },
  {
   "cell_type": "code",
   "execution_count": 19,
   "id": "2ca1a20a",
   "metadata": {},
   "outputs": [],
   "source": [
    "min_hz = 0.\n",
    "max_hz = 44100 // 2"
   ]
  },
  {
   "cell_type": "code",
   "execution_count": 20,
   "id": "48e0f7af",
   "metadata": {},
   "outputs": [],
   "source": [
    "def hz2erb(hz):\n",
    "    return 21.4 * th.log(th.tensor(1.) + 0.00437 * hz) / th.log(th.tensor(10.))\n",
    "\n",
    "def erb2hz(erb):\n",
    "    return (10. ** (erb / 21.4) - 1.) / 0.00437"
   ]
  },
  {
   "cell_type": "code",
   "execution_count": 21,
   "id": "1ca74d71",
   "metadata": {},
   "outputs": [],
   "source": [
    "min_erb = hz2erb(th.tensor(min_hz))\n",
    "max_erb = hz2erb(th.tensor(max_hz))"
   ]
  },
  {
   "cell_type": "code",
   "execution_count": 22,
   "id": "fef8ca2d",
   "metadata": {},
   "outputs": [
    {
     "data": {
      "text/plain": [
       "(tensor(0.), tensor(42.5512))"
      ]
     },
     "execution_count": 22,
     "metadata": {},
     "output_type": "execute_result"
    }
   ],
   "source": [
    "min_erb, max_erb"
   ]
  },
  {
   "cell_type": "code",
   "execution_count": 23,
   "id": "a7d1aad3",
   "metadata": {},
   "outputs": [],
   "source": [
    "bucket_boundaries = erb2hz(th.linspace(min_erb, max_erb, required_length))"
   ]
  },
  {
   "cell_type": "markdown",
   "id": "b6b3291c",
   "metadata": {},
   "source": [
    "# Bark"
   ]
  },
  {
   "cell_type": "code",
   "execution_count": 24,
   "id": "851c5b8f",
   "metadata": {},
   "outputs": [],
   "source": [
    "def hz2bark(f):\n",
    "        #       HZ2BARK         Converts frequencies Hertz (Hz) to Bark\n",
    "        #\n",
    "    b = 6 * th.arcsinh(f / 600)\n",
    "    return b\n",
    "    \n",
    "    \n",
    "def bark2hz(b):\n",
    "        #       BARK2HZ         Converts frequencies Bark to Hertz (HZ)\n",
    "        #\n",
    "    f = 600 * th.sinh(b / 6)\n",
    "    return f"
   ]
  },
  {
   "cell_type": "code",
   "execution_count": 25,
   "id": "048ee512",
   "metadata": {},
   "outputs": [],
   "source": [
    "min_hz = 0.\n",
    "max_hz = 44100 // 2"
   ]
  },
  {
   "cell_type": "code",
   "execution_count": 26,
   "id": "ef43ba89",
   "metadata": {},
   "outputs": [],
   "source": [
    "min_bark = hz2bark(th.tensor(min_hz))\n",
    "max_bark = hz2bark(th.tensor(max_hz))"
   ]
  },
  {
   "cell_type": "code",
   "execution_count": 27,
   "id": "48404f1f",
   "metadata": {},
   "outputs": [
    {
     "data": {
      "text/plain": [
       "(tensor(0.), tensor(25.7848))"
      ]
     },
     "execution_count": 27,
     "metadata": {},
     "output_type": "execute_result"
    }
   ],
   "source": [
    "min_bark, max_bark"
   ]
  },
  {
   "cell_type": "code",
   "execution_count": 28,
   "id": "25468e7b",
   "metadata": {},
   "outputs": [],
   "source": [
    "bucket_boundaries = bark2hz(th.linspace(min_bark, max_bark, required_length))"
   ]
  },
  {
   "cell_type": "code",
   "execution_count": 29,
   "id": "a798c1ce",
   "metadata": {},
   "outputs": [
    {
     "data": {
      "text/plain": [
       "torch.Size([512])"
      ]
     },
     "execution_count": 29,
     "metadata": {},
     "output_type": "execute_result"
    }
   ],
   "source": [
    "bucket_boundaries.size()"
   ]
  },
  {
   "cell_type": "markdown",
   "id": "656e6892",
   "metadata": {},
   "source": [
    "# Scatter"
   ]
  },
  {
   "cell_type": "code",
   "execution_count": 30,
   "id": "18c25cb3",
   "metadata": {},
   "outputs": [],
   "source": [
    "frequencies = th.linspace(min_hz, max_hz, n_bins)"
   ]
  },
  {
   "cell_type": "code",
   "execution_count": 31,
   "id": "7439df6f",
   "metadata": {},
   "outputs": [],
   "source": [
    "buckets = th.bucketize(frequencies, bucket_boundaries)"
   ]
  },
  {
   "cell_type": "code",
   "execution_count": 32,
   "id": "ad5c2dcd",
   "metadata": {},
   "outputs": [],
   "source": [
    "#buckets_count = th.bincount(buckets) + 1"
   ]
  },
  {
   "cell_type": "code",
   "execution_count": 33,
   "id": "a9c77cb1",
   "metadata": {},
   "outputs": [
    {
     "data": {
      "text/plain": [
       "torch.Size([2048, 5167])"
      ]
     },
     "execution_count": 33,
     "metadata": {},
     "output_type": "execute_result"
    }
   ],
   "source": [
    "magn.size()"
   ]
  },
  {
   "cell_type": "code",
   "execution_count": 34,
   "id": "12fd23b6",
   "metadata": {},
   "outputs": [
    {
     "data": {
      "text/plain": [
       "torch.Size([451])"
      ]
     },
     "execution_count": 34,
     "metadata": {},
     "output_type": "execute_result"
    }
   ],
   "source": [
    "buckets.unique().size()"
   ]
  },
  {
   "cell_type": "code",
   "execution_count": 35,
   "id": "1dba8e8b",
   "metadata": {},
   "outputs": [],
   "source": [
    "#res = res.scatter_add_(0, buckets[:, None].repeat(1, complex_without_nyquist.size()[1]), complex_without_nyquist)\n",
    "\n",
    "buckets_tmp = buckets[:, None].repeat(1, magn.size()[1])\n",
    "\n",
    "magn_res = torch_scatter.scatter_mean(magn, buckets_tmp, dim=0)\n",
    "phase_res = torch_scatter.scatter_mean(phase, buckets_tmp, dim=0)"
   ]
  },
  {
   "cell_type": "code",
   "execution_count": 36,
   "id": "7238061d",
   "metadata": {},
   "outputs": [
    {
     "data": {
      "text/plain": [
       "torch.Size([512, 5167])"
      ]
     },
     "execution_count": 36,
     "metadata": {},
     "output_type": "execute_result"
    }
   ],
   "source": [
    "magn_res.size()"
   ]
  },
  {
   "cell_type": "code",
   "execution_count": 37,
   "id": "fba3fa42",
   "metadata": {},
   "outputs": [
    {
     "data": {
      "image/png": "[encoded data removed]",
      "text/plain": [
       "<Figure size 288x288 with 1 Axes>"
      ]
     },
     "metadata": {
      "needs_background": "light"
     },
     "output_type": "display_data"
    }
   ],
   "source": [
    "bl = magn_res[:, 60:60+512].numpy()\n",
    "\n",
    "bl = bl / (bl.max() - bl.min())\n",
    "\n",
    "plt.matshow(bl, cmap=\"plasma\")\n",
    "plt.show()"
   ]
  },
  {
   "cell_type": "code",
   "execution_count": 38,
   "id": "ed6a99da",
   "metadata": {},
   "outputs": [
    {
     "data": {
      "image/png": "[encoded data removed]",
      "text/plain": [
       "<Figure size 288x1152 with 1 Axes>"
      ]
     },
     "metadata": {
      "needs_background": "light"
     },
     "output_type": "display_data"
    }
   ],
   "source": [
    "plt.matshow(th.abs(complex_without_nyquist[:, 60:60+512]).numpy(), cmap=\"plasma\")\n",
    "plt.show()"
   ]
  },
  {
   "cell_type": "markdown",
   "id": "0517730b",
   "metadata": {},
   "source": [
    "# Inverse"
   ]
  },
  {
   "cell_type": "code",
   "execution_count": 39,
   "id": "07664531",
   "metadata": {},
   "outputs": [
    {
     "data": {
      "text/plain": [
       "(torch.Size([512, 5167]), torch.Size([512, 5167]))"
      ]
     },
     "execution_count": 39,
     "metadata": {},
     "output_type": "execute_result"
    }
   ],
   "source": [
    "magn_res.size(), phase_res.size()"
   ]
  },
  {
   "cell_type": "code",
   "execution_count": 40,
   "id": "47240618",
   "metadata": {},
   "outputs": [],
   "source": [
    "inv_magn = th.zeros(n_bins, magn_res.size()[1])\n",
    "inv_phase = th.zeros(n_bins, phase_res.size()[1])"
   ]
  },
  {
   "cell_type": "code",
   "execution_count": 41,
   "id": "84bd37a3",
   "metadata": {},
   "outputs": [
    {
     "data": {
      "text/plain": [
       "torch.Size([2048])"
      ]
     },
     "execution_count": 41,
     "metadata": {},
     "output_type": "execute_result"
    }
   ],
   "source": [
    "buckets.size()"
   ]
  },
  {
   "cell_type": "code",
   "execution_count": 42,
   "id": "74ade374",
   "metadata": {},
   "outputs": [
    {
     "data": {
      "text/plain": [
       "tensor([  0,   3,   5,  ..., 511, 511, 511])"
      ]
     },
     "execution_count": 42,
     "metadata": {},
     "output_type": "execute_result"
    }
   ],
   "source": [
    "buckets"
   ]
  },
  {
   "cell_type": "code",
   "execution_count": 43,
   "id": "c7387751",
   "metadata": {},
   "outputs": [
    {
     "name": "stderr",
     "output_type": "stream",
     "text": [
      "100%|████████████████████████████████████████████████████████████████████████████████████████████████████████████████████████████████████████████████████████████████████████████████████████████| 2048/2048 [00:00<00:00, 72147.34it/s]\n"
     ]
    }
   ],
   "source": [
    "for i, b in enumerate(tqdm(buckets)):\n",
    "    inv_magn[i, :] = magn_res[b, :]\n",
    "    inv_phase[i, :] = phase_res[b, :]"
   ]
  },
  {
   "cell_type": "code",
   "execution_count": 44,
   "id": "483820c5",
   "metadata": {},
   "outputs": [],
   "source": [
    "for i in range(inv_phase.size()[1] - 1):\n",
    "    inv_phase[:, i + 1] = inv_phase[:, i + 1] + inv_phase[:, i]\n",
    "\n",
    "inv_phase = inv_phase % (2 * np.pi)"
   ]
  },
  {
   "cell_type": "code",
   "execution_count": 45,
   "id": "671cf7a9",
   "metadata": {},
   "outputs": [],
   "source": [
    "z = inv_magn * th.cos(inv_phase) + inv_magn * th.sin(inv_phase) * 1j"
   ]
  },
  {
   "cell_type": "code",
   "execution_count": 46,
   "id": "0df7a64a",
   "metadata": {},
   "outputs": [],
   "source": [
    "z = th.cat([z, th.zeros(1, z.size()[1]) + 1j * th.zeros(1, z.size()[1])], dim=0)"
   ]
  },
  {
   "cell_type": "code",
   "execution_count": 47,
   "id": "756b3ed1",
   "metadata": {},
   "outputs": [
    {
     "data": {
      "text/plain": [
       "torch.Size([2049, 5167])"
      ]
     },
     "execution_count": 47,
     "metadata": {},
     "output_type": "execute_result"
    }
   ],
   "source": [
    "z.size()"
   ]
  },
  {
   "cell_type": "code",
   "execution_count": 48,
   "id": "c623a3db",
   "metadata": {},
   "outputs": [],
   "source": [
    "hann_window = th.hann_window(nperseg)\n",
    "\n",
    "raw_audio = th_audio_f.inverse_spectrogram(\n",
    "        z, length=None,\n",
    "        pad=0, window=hann_window,\n",
    "        n_fft=nperseg, hop_length=stride,\n",
    "        win_length=nperseg, normalized=True\n",
    ")"
   ]
  },
  {
   "cell_type": "code",
   "execution_count": 49,
   "id": "c016ad2f",
   "metadata": {},
   "outputs": [],
   "source": [
    "th_audio.save(\"output.wav\", raw_audio[None, :], 44100)"
   ]
  },
  {
   "cell_type": "code",
   "execution_count": null,
   "id": "2fac74d5",
   "metadata": {},
   "outputs": [],
   "source": []
  },
  {
   "cell_type": "code",
   "execution_count": null,
   "id": "b5867725",
   "metadata": {},
   "outputs": [],
   "source": []
  }
 ],
 "metadata": {
  "kernelspec": {
   "display_name": "Python 3 (ipykernel)",
   "language": "python",
   "name": "python3"
  },
  "language_info": {
   "codemirror_mode": {
    "name": "ipython",
    "version": 3
   },
   "file_extension": ".py",
   "mimetype": "text/x-python",
   "name": "python",
   "nbconvert_exporter": "python",
   "pygments_lexer": "ipython3",
   "version": "3.9.9"
  }
 },
 "nbformat": 4,
 "nbformat_minor": 5
}
