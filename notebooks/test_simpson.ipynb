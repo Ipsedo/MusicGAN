{
 "cells": [
  {
   "cell_type": "code",
   "execution_count": null,
   "id": "baa0ffe3",
   "metadata": {},
   "outputs": [],
   "source": [
    "import torch as th"
   ]
  },
  {
   "cell_type": "code",
   "execution_count": null,
   "id": "3fa1c207",
   "metadata": {},
   "outputs": [],
   "source": [
    "derivative = th.randn(10, 600, 10)\n",
    "dim = 1\n",
    "dx = 10\n",
    "sizes = derivative.size()\n",
    "n = derivative.size()[dim]"
   ]
  },
  {
   "cell_type": "code",
   "execution_count": null,
   "id": "49de2d84",
   "metadata": {},
   "outputs": [],
   "source": [
    "    evens = th.arange(0, n, 2)\n",
    "    odds = th.arange(1, n, 2)\n",
    "\n",
    "    even_derivative = th.index_select(derivative, dim, evens)\n",
    "    odd_derivative = th.index_select(derivative, dim, odds)\n",
    "\n",
    "    shift_odd_derivative = th.cat(\n",
    "        (\n",
    "            th.zeros(*[1 if i == dim else s for i, s in enumerate(sizes)]),\n",
    "            odd_derivative,\n",
    "        ),\n",
    "        dim=dim,\n",
    "    )\n",
    "\n",
    "    even_primitive = 0. + dx / 3 * (\n",
    "            (\n",
    "                    2 * even_derivative\n",
    "                    + 4 * th.index_select(shift_odd_derivative, dim=dim,\n",
    "                                          index=th.arange(0, even_derivative.size()[dim]))\n",
    "            ).cumsum(dim)\n",
    "            - th.select(even_derivative, dim, 0).unsqueeze(dim)\n",
    "            - th.select(even_derivative, dim, 0).unsqueeze(dim)\n",
    "    )\n",
    "\n",
    "    odd_primitive = (dx / 3) * (\n",
    "            (\n",
    "                    2 * odd_derivative\n",
    "                    + 4 * th.index_select(even_derivative, dim=dim,\n",
    "                                          index=th.arange(0, odd_derivative.size()[dim]))\n",
    "            ).cumsum(dim)\n",
    "            - 4 * th.select(even_derivative, dim, 0).unsqueeze(dim)\n",
    "            - th.select(odd_derivative, dim, 0).unsqueeze(dim)\n",
    "            - odd_derivative\n",
    "    )"
   ]
  },
  {
   "cell_type": "code",
   "execution_count": null,
   "id": "705e09d7",
   "metadata": {},
   "outputs": [],
   "source": [
    "odd_primitive"
   ]
  },
  {
   "cell_type": "code",
   "execution_count": null,
   "id": "6007251f",
   "metadata": {},
   "outputs": [],
   "source": [
    "sizes = derivative.size()\n",
    "n = derivative.size()[dim]\n",
    "\n",
    "evens = th.arange(0, n, 2)\n",
    "odds = th.arange(1, n, 2)\n",
    "\n",
    "even_derivative = th.index_select(derivative, dim, evens)\n",
    "odd_derivative = th.index_select(derivative, dim, odds)"
   ]
  },
  {
   "cell_type": "code",
   "execution_count": null,
   "id": "bb88fbb0",
   "metadata": {},
   "outputs": [],
   "source": [
    "even_derivative.size(), odd_derivative.size(), odds.size(), evens.size()"
   ]
  },
  {
   "cell_type": "code",
   "execution_count": null,
   "id": "d8b6123f",
   "metadata": {},
   "outputs": [],
   "source": [
    "even_primitive = 0 + dx / 3 * (\n",
    "        (\n",
    "            2 * even_derivative\n",
    "            + 4 * th.index_select(odd_derivative, dim=dim, index=th.arange(0, even_derivative.size()[dim]))\n",
    "        ).cumsum(dim)\n",
    "        - th.select(even_derivative, dim, 0).unsqueeze(dim)\n",
    "        - th.select(even_derivative, dim, 0).unsqueeze(dim)\n",
    "    )"
   ]
  },
  {
   "cell_type": "code",
   "execution_count": null,
   "id": "10a8a57a",
   "metadata": {},
   "outputs": [],
   "source": [
    "odd_primitive = (dx / 3) * (\n",
    "        (\n",
    "            2 * odd_derivative\n",
    "            + 4 * th.index_select(even_derivative, dim=dim, index=th.arange(0, odd_derivative.size()[dim]))\n",
    "        ).cumsum(dim)\n",
    "        - 4 * th.select(even_derivative, dim, 0).unsqueeze(dim)\n",
    "        - th.select(odd_derivative, dim, 0).unsqueeze(dim)\n",
    "        - odd_derivative\n",
    "    )"
   ]
  },
  {
   "cell_type": "code",
   "execution_count": null,
   "id": "5e04d4db",
   "metadata": {},
   "outputs": [],
   "source": [
    "    sizes = derivative.size()\n",
    "    n = derivative.size()[dim]\n",
    "\n",
    "    evens = th.arange(0, n, 2)\n",
    "    odds = th.arange(1, n, 2)\n",
    "\n",
    "    even_derivative = th.index_select(derivative, dim, evens)\n",
    "    odd_derivative = th.index_select(derivative, dim, odds)\n",
    "\n",
    "    even_primitive = first_primitive + dx / 3 * (\n",
    "        (\n",
    "            2 * even_derivative\n",
    "            + 4 * th.index_select(odd_derivative, dim=dim, index=th.arange(0, even_derivative.size()[dim]))\n",
    "        ).cumsum(dim)\n",
    "        - th.select(even_derivative, dim, 0).unsqueeze(dim)\n",
    "        - th.select(even_derivative, dim, 0).unsqueeze(dim)\n",
    "    )\n",
    "\n",
    "    odd_primitive = (dx / 3) * (\n",
    "        (\n",
    "            2 * odd_derivative\n",
    "            + 4 * th.index_select(even_derivative, dim=dim, index=th.arange(0, odd_derivative.size()[dim]))\n",
    "        ).cumsum(dim)\n",
    "        - 4 * th.select(even_derivative, dim, 0).unsqueeze(dim)\n",
    "        - th.select(odd_derivative, dim, 0).unsqueeze(dim)\n",
    "        - odd_derivative\n",
    "    )\n",
    "\n",
    "    odd_primitive += first_primitive + dx / 12 * (\n",
    "        5 * derivative[0] + 8 * derivative[1] - derivative[2]\n",
    "    )\n",
    "\n",
    "    primitive = th.zeros_like(derivative)\n",
    "    primitive[evens] = even_primitive\n",
    "    primitive[odds] = odd_primitive"
   ]
  },
  {
   "cell_type": "code",
   "execution_count": null,
   "id": "fbd9553e",
   "metadata": {},
   "outputs": [],
   "source": [
    "def simpson(\n",
    "    first_primitive: float, derivative: th.Tensor, dim: int, dx: float,\n",
    ") -> th.Tensor:\n",
    "\n",
    "    sizes = derivative.size()\n",
    "    n = derivative.size()[dim]\n",
    "\n",
    "    evens = th.arange(0, n, 2)\n",
    "    odds = th.arange(1, n, 2)\n",
    "\n",
    "    even_derivative = th.index_select(derivative, dim, evens)\n",
    "    odd_derivative = th.index_select(derivative, dim, odds)\n",
    "    \n",
    "    shift_odd_derivative = th.cat(\n",
    "        (\n",
    "            th.zeros(*[1 if i == dim else s for i, s in enumerate(sizes)]),\n",
    "            odd_derivative,\n",
    "        ),\n",
    "        dim=dim,\n",
    "    )\n",
    "\n",
    "    even_primitive = first_primitive + dx / 3 * (\n",
    "        (\n",
    "            2 * even_derivative\n",
    "            + 4 * th.index_select(shift_odd_derivative, dim=dim, index=th.arange(0, even_derivative.size()[dim]))\n",
    "        ).cumsum(dim)\n",
    "        - th.select(even_derivative, dim, 0).unsqueeze(dim)\n",
    "        - th.select(even_derivative, dim, 0).unsqueeze(dim)\n",
    "    )\n",
    "\n",
    "    odd_primitive = (dx / 3) * (\n",
    "        (\n",
    "            2 * odd_derivative\n",
    "            + 4 * th.index_select(even_derivative, dim=dim, index=th.arange(0, odd_derivative.size()[dim]))\n",
    "        ).cumsum(dim)\n",
    "        - 4 * th.select(even_derivative, dim, 0).unsqueeze(dim)\n",
    "        - th.select(odd_derivative, dim, 0).unsqueeze(dim)\n",
    "        - odd_derivative\n",
    "    )\n",
    "\n",
    "    odd_primitive += first_primitive + dx / 12 * (\n",
    "        5 * th.select(derivative, dim, 0) + 8 * th.select(derivative, dim, 1) - th.select(derivative, dim, 2)\n",
    "    ).unsqueeze(dim)\n",
    "\n",
    "    primitive = th.zeros_like(derivative)\n",
    "    \n",
    "    evens = evens.view(*[-1 if i == dim else 1 for i in range(len(sizes))])\n",
    "    odds = odds.view(*[-1 if i == dim else 1 for i in range(len(sizes))])\n",
    "    \n",
    "    primitive.scatter_(dim, evens, even_primitive)\n",
    "    primitive.scatter_(dim, odds, odd_primitive)\n",
    "\n",
    "    return primitive"
   ]
  },
  {
   "cell_type": "code",
   "execution_count": null,
   "id": "0e282562",
   "metadata": {},
   "outputs": [],
   "source": [
    "simpson(0, th.randn(300, 100, 200), 1, 10)"
   ]
  },
  {
   "cell_type": "code",
   "execution_count": null,
   "id": "bebaaf33",
   "metadata": {},
   "outputs": [],
   "source": []
  }
 ],
 "metadata": {
  "kernelspec": {
   "display_name": "Python 3 (ipykernel)",
   "language": "python",
   "name": "python3"
  },
  "language_info": {
   "codemirror_mode": {
    "name": "ipython",
    "version": 3
   },
   "file_extension": ".py",
   "mimetype": "text/x-python",
   "name": "python",
   "nbconvert_exporter": "python",
   "pygments_lexer": "ipython3",
   "version": "3.10.9"
  }
 },
 "nbformat": 4,
 "nbformat_minor": 5
}
