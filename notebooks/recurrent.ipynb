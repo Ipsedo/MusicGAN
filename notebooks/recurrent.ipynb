{
 "cells": [
  {
   "cell_type": "code",
   "execution_count": 1,
   "outputs": [],
   "source": [
    "from typing import OrderedDict\n",
    "\n",
    "import torch as th\n",
    "import torch.nn as nn\n",
    "\n",
    "from music_gan.networks import Generator, Discriminator"
   ],
   "metadata": {
    "collapsed": false,
    "pycharm": {
     "name": "#%%\n"
    }
   }
  },
  {
   "cell_type": "code",
   "execution_count": 2,
   "outputs": [],
   "source": [
    "nb_steps = 16"
   ],
   "metadata": {
    "collapsed": false,
    "pycharm": {
     "name": "#%%\n"
    }
   }
  },
  {
   "cell_type": "code",
   "execution_count": 3,
   "outputs": [],
   "source": [
    "tmp_gen = Generator(16, 7)"
   ],
   "metadata": {
    "collapsed": false,
    "pycharm": {
     "name": "#%%\n"
    }
   }
  },
  {
   "cell_type": "code",
   "execution_count": 4,
   "outputs": [],
   "source": [
    "state_dict = tmp_gen.state_dict()"
   ],
   "metadata": {
    "collapsed": false,
    "pycharm": {
     "name": "#%%\n"
    }
   }
  },
  {
   "cell_type": "code",
   "execution_count": 5,
   "outputs": [],
   "source": [
    "class RecurrentGenerator(nn.Module):\n",
    "    def __init__(\n",
    "            self,\n",
    "            input_size:int,\n",
    "            conv_rand_channels: int,\n",
    "            cnn_state_dict: OrderedDict[str, th.Tensor]\n",
    "    ):\n",
    "        super(RecurrentGenerator, self).__init__()\n",
    "\n",
    "        gen = Generator(\n",
    "            conv_rand_channels, end_layer=7\n",
    "        )\n",
    "\n",
    "        gen.load_state_dict(cnn_state_dict)\n",
    "\n",
    "        self.__conv_blocks = gen.conv_blocks\n",
    "        self.__end_block = gen.end_block\n",
    "\n",
    "        self.__input_size = input_size\n",
    "        self.__hidden_size = conv_rand_channels * 2\n",
    "\n",
    "        self.__rnn = nn.RNN(\n",
    "            self.__input_size,\n",
    "            self.__hidden_size,\n",
    "            batch_first=True\n",
    "        )\n",
    "\n",
    "    def forward(self, z_rec: th.Tensor) -> th.Tensor:\n",
    "\n",
    "        out_rec, _ = self.__rnn(z_rec)\n",
    "\n",
    "        out = th.stack(out_rec.split(16, dim=-1), dim=1).permute(0, 3, 1, 2)\n",
    "\n",
    "        for layer in self.__conv_blocks:\n",
    "            out = layer(out)\n",
    "\n",
    "        out = self.__end_block(out)\n",
    "\n",
    "        return out\n"
   ],
   "metadata": {
    "collapsed": false,
    "pycharm": {
     "name": "#%%\n"
    }
   }
  },
  {
   "cell_type": "code",
   "execution_count": 6,
   "outputs": [],
   "source": [
    "rec_gen = RecurrentGenerator(32, 16, state_dict)"
   ],
   "metadata": {
    "collapsed": false,
    "pycharm": {
     "name": "#%%\n"
    }
   }
  },
  {
   "cell_type": "code",
   "execution_count": 7,
   "outputs": [],
   "source": [
    "x = th.randn(5, nb_steps, 32)"
   ],
   "metadata": {
    "collapsed": false,
    "pycharm": {
     "name": "#%%\n"
    }
   }
  },
  {
   "cell_type": "code",
   "execution_count": 8,
   "outputs": [],
   "source": [
    "o = rec_gen(x)"
   ],
   "metadata": {
    "collapsed": false,
    "pycharm": {
     "name": "#%%\n"
    }
   }
  },
  {
   "cell_type": "code",
   "execution_count": 9,
   "outputs": [
    {
     "data": {
      "text/plain": "torch.Size([5, 2, 512, 4096])"
     },
     "execution_count": 9,
     "metadata": {},
     "output_type": "execute_result"
    }
   ],
   "source": [
    "o.size()"
   ],
   "metadata": {
    "collapsed": false,
    "pycharm": {
     "name": "#%%\n"
    }
   }
  },
  {
   "cell_type": "code",
   "execution_count": 10,
   "outputs": [],
   "source": [
    "disc_state_dict = Discriminator(start_layer=0).state_dict()"
   ],
   "metadata": {
    "collapsed": false,
    "pycharm": {
     "name": "#%%\n"
    }
   }
  },
  {
   "cell_type": "code",
   "execution_count": 17,
   "outputs": [],
   "source": [
    "class RecurrentDiscriminator(nn.Module):\n",
    "    def __init__(self, cnn_state_dict: OrderedDict[str, th.Tensor]):\n",
    "        super(RecurrentDiscriminator, self).__init__()\n",
    "\n",
    "        conv_disc = Discriminator(start_layer=0)\n",
    "        conv_disc.load_state_dict(cnn_state_dict)\n",
    "\n",
    "        self.__start_block = conv_disc.start_block\n",
    "        self.__conv_blocks = conv_disc.conv_blocks[:-1]\n",
    "\n",
    "        rnn_out_size = 64\n",
    "\n",
    "        self.__rnn = nn.RNN(\n",
    "            conv_disc.end_layer_channels * 2,\n",
    "            rnn_out_size,\n",
    "            batch_first=True\n",
    "        )\n",
    "\n",
    "        self.__clf = nn.Linear(\n",
    "            rnn_out_size,\n",
    "            1\n",
    "        )\n",
    "\n",
    "    def forward(self, data: th.Tensor) -> th.Tensor:\n",
    "        out = self.__start_block(data)\n",
    "        for layer in self.__conv_blocks:\n",
    "            out = layer(out)\n",
    "\n",
    "        out = th.flatten(out, 1, 2).permute(0, 2, 1)\n",
    "\n",
    "        out, _ = self.__rnn(out)\n",
    "\n",
    "        out = self.__clf(out)\n",
    "        out = out.mean(dim=1)\n",
    "\n",
    "        return out"
   ],
   "metadata": {
    "collapsed": false,
    "pycharm": {
     "name": "#%%\n"
    }
   }
  },
  {
   "cell_type": "code",
   "execution_count": 18,
   "outputs": [],
   "source": [
    "rec_disc = RecurrentDiscriminator(disc_state_dict)"
   ],
   "metadata": {
    "collapsed": false,
    "pycharm": {
     "name": "#%%\n"
    }
   }
  },
  {
   "cell_type": "code",
   "execution_count": 20,
   "outputs": [
    {
     "name": "stdout",
     "output_type": "stream",
     "text": [
      "torch.Size([5, 16, 64])\n"
     ]
    }
   ],
   "source": [
    "out_disc = rec_disc(o)"
   ],
   "metadata": {
    "collapsed": false,
    "pycharm": {
     "name": "#%%\n"
    }
   }
  },
  {
   "cell_type": "code",
   "execution_count": 21,
   "outputs": [
    {
     "data": {
      "text/plain": "torch.Size([5, 1])"
     },
     "execution_count": 21,
     "metadata": {},
     "output_type": "execute_result"
    }
   ],
   "source": [
    "out_disc.size()"
   ],
   "metadata": {
    "collapsed": false,
    "pycharm": {
     "name": "#%%\n"
    }
   }
  },
  {
   "cell_type": "code",
   "execution_count": null,
   "outputs": [],
   "source": [],
   "metadata": {
    "collapsed": false,
    "pycharm": {
     "name": "#%%\n"
    }
   }
  }
 ],
 "metadata": {
  "kernelspec": {
   "display_name": "Python 3",
   "language": "python",
   "name": "python3"
  },
  "language_info": {
   "codemirror_mode": {
    "name": "ipython",
    "version": 2
   },
   "file_extension": ".py",
   "mimetype": "text/x-python",
   "name": "python",
   "nbconvert_exporter": "python",
   "pygments_lexer": "ipython2",
   "version": "2.7.6"
  }
 },
 "nbformat": 4,
 "nbformat_minor": 0
}