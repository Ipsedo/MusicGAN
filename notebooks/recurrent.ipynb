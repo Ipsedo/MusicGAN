{
 "cells": [
  {
   "cell_type": "code",
   "execution_count": 1,
   "metadata": {
    "pycharm": {
     "name": "#%%\n"
    }
   },
   "outputs": [],
   "source": [
    "from typing import OrderedDict\n",
    "\n",
    "import torch as th\n",
    "import torch.nn as nn\n",
    "\n",
    "from music_gan.networks import Generator, Discriminator"
   ]
  },
  {
   "cell_type": "code",
   "execution_count": 2,
   "metadata": {
    "pycharm": {
     "name": "#%%\n"
    }
   },
   "outputs": [],
   "source": [
    "nb_steps = 16"
   ]
  },
  {
   "cell_type": "code",
   "execution_count": 3,
   "metadata": {
    "pycharm": {
     "name": "#%%\n"
    }
   },
   "outputs": [],
   "source": [
    "tmp_gen = Generator(16, 7)"
   ]
  },
  {
   "cell_type": "code",
   "execution_count": 4,
   "metadata": {
    "pycharm": {
     "name": "#%%\n"
    }
   },
   "outputs": [],
   "source": [
    "state_dict = tmp_gen.state_dict()"
   ]
  },
  {
   "cell_type": "code",
   "execution_count": 5,
   "metadata": {
    "pycharm": {
     "name": "#%%\n"
    }
   },
   "outputs": [],
   "source": [
    "class RecurrentGenerator(nn.Module):\n",
    "    def __init__(\n",
    "            self,\n",
    "            input_size:int,\n",
    "            conv_rand_channels: int,\n",
    "            cnn_state_dict: OrderedDict[str, th.Tensor]\n",
    "    ):\n",
    "        super(RecurrentGenerator, self).__init__()\n",
    "\n",
    "        gen = Generator(\n",
    "            conv_rand_channels, end_layer=7\n",
    "        )\n",
    "\n",
    "        gen.load_state_dict(cnn_state_dict)\n",
    "\n",
    "        self.__conv_blocks = gen.conv_blocks\n",
    "        self.__end_block = gen.end_block\n",
    "\n",
    "        self.__input_size = input_size\n",
    "        self.__hidden_size = conv_rand_channels * 2\n",
    "\n",
    "        self.__rnn = nn.RNN(\n",
    "            self.__input_size,\n",
    "            self.__hidden_size,\n",
    "            batch_first=True\n",
    "        )\n",
    "\n",
    "    def forward(self, z_rec: th.Tensor) -> th.Tensor:\n",
    "\n",
    "        out_rec, _ = self.__rnn(z_rec)\n",
    "\n",
    "        out = th.stack(out_rec.split(16, dim=-1), dim=1).permute(0, 3, 1, 2)\n",
    "\n",
    "        for layer in self.__conv_blocks:\n",
    "            out = layer(out)\n",
    "\n",
    "        out = self.__end_block(out)\n",
    "\n",
    "        return out\n"
   ]
  },
  {
   "cell_type": "code",
   "execution_count": 6,
   "metadata": {
    "pycharm": {
     "name": "#%%\n"
    }
   },
   "outputs": [],
   "source": [
    "rec_gen = RecurrentGenerator(32, 16, state_dict)"
   ]
  },
  {
   "cell_type": "code",
   "execution_count": 7,
   "metadata": {
    "pycharm": {
     "name": "#%%\n"
    }
   },
   "outputs": [],
   "source": [
    "x = th.randn(5, nb_steps, 32)"
   ]
  },
  {
   "cell_type": "code",
   "execution_count": 8,
   "metadata": {
    "pycharm": {
     "name": "#%%\n"
    }
   },
   "outputs": [],
   "source": [
    "o = rec_gen(x)"
   ]
  },
  {
   "cell_type": "code",
   "execution_count": 9,
   "metadata": {
    "pycharm": {
     "name": "#%%\n"
    }
   },
   "outputs": [
    {
     "data": {
      "text/plain": [
       "torch.Size([5, 2, 512, 4096])"
      ]
     },
     "execution_count": 9,
     "metadata": {},
     "output_type": "execute_result"
    }
   ],
   "source": [
    "o.size()"
   ]
  },
  {
   "cell_type": "code",
   "execution_count": 10,
   "metadata": {
    "pycharm": {
     "name": "#%%\n"
    }
   },
   "outputs": [],
   "source": [
    "disc_state_dict = Discriminator(start_layer=0).state_dict()"
   ]
  },
  {
   "cell_type": "code",
   "execution_count": 22,
   "metadata": {
    "pycharm": {
     "name": "#%%\n"
    }
   },
   "outputs": [],
   "source": [
    "class RecurrentDiscriminator(nn.Module):\n",
    "    def __init__(self, cnn_state_dict: OrderedDict[str, th.Tensor]):\n",
    "        super(RecurrentDiscriminator, self).__init__()\n",
    "\n",
    "        conv_disc = Discriminator(start_layer=0)\n",
    "        conv_disc.load_state_dict(cnn_state_dict)\n",
    "\n",
    "        self.__start_block = conv_disc.start_block\n",
    "        self.__conv_blocks = conv_disc.conv_blocks[:-1]\n",
    "\n",
    "        rnn_out_size = 64\n",
    "\n",
    "        self.__rnn = nn.RNN(\n",
    "            conv_disc.end_layer_channels * 2,\n",
    "            rnn_out_size,\n",
    "            batch_first=True,\n",
    "            nonlinearity=\"relu\"\n",
    "        )\n",
    "\n",
    "        self.__clf = nn.Sequential(\n",
    "            nn.Linear(\n",
    "                rnn_out_size,\n",
    "                1\n",
    "            ),\n",
    "            nn.Sigmoid()\n",
    "        )\n",
    "\n",
    "    def forward(self, data: th.Tensor) -> th.Tensor:\n",
    "        out = self.__start_block(data)\n",
    "        for layer in self.__conv_blocks:\n",
    "            out = layer(out)\n",
    "\n",
    "        out = th.flatten(out, 1, 2).permute(0, 2, 1)\n",
    "\n",
    "        out, _ = self.__rnn(out)\n",
    "        \n",
    "        # sigmoid + log proba sum seems not correct with WGAN...\n",
    "        out = self.__clf(out)\n",
    "        out = out.log().sum(dim=1)\n",
    "\n",
    "        return out"
   ]
  },
  {
   "cell_type": "code",
   "execution_count": 23,
   "metadata": {
    "pycharm": {
     "name": "#%%\n"
    }
   },
   "outputs": [],
   "source": [
    "rec_disc = RecurrentDiscriminator(disc_state_dict)"
   ]
  },
  {
   "cell_type": "code",
   "execution_count": 24,
   "metadata": {
    "pycharm": {
     "name": "#%%\n"
    }
   },
   "outputs": [],
   "source": [
    "out_disc = rec_disc(o)"
   ]
  },
  {
   "cell_type": "code",
   "execution_count": 25,
   "metadata": {
    "pycharm": {
     "name": "#%%\n"
    }
   },
   "outputs": [
    {
     "data": {
      "text/plain": [
       "torch.Size([5, 1])"
      ]
     },
     "execution_count": 25,
     "metadata": {},
     "output_type": "execute_result"
    }
   ],
   "source": [
    "out_disc.size()"
   ]
  },
  {
   "cell_type": "code",
   "execution_count": 26,
   "metadata": {
    "pycharm": {
     "name": "#%%\n"
    }
   },
   "outputs": [
    {
     "data": {
      "text/plain": [
       "tensor([[-11.5789],\n",
       "        [-11.5789],\n",
       "        [-11.5789],\n",
       "        [-11.5789],\n",
       "        [-11.5789]], grad_fn=<SumBackward1>)"
      ]
     },
     "execution_count": 26,
     "metadata": {},
     "output_type": "execute_result"
    }
   ],
   "source": [
    "out_disc"
   ]
  },
  {
   "cell_type": "code",
   "execution_count": 28,
   "metadata": {},
   "outputs": [],
   "source": [
    "a=th.ones(5, 16, 1) - 0.1\n",
    "b=th.zeros(5, 16, 1) + 0.1"
   ]
  },
  {
   "cell_type": "code",
   "execution_count": 29,
   "metadata": {},
   "outputs": [],
   "source": [
    "res = -(a.log().sum(dim=1).mean() - b.log().sum(dim=1).mean())"
   ]
  },
  {
   "cell_type": "code",
   "execution_count": 30,
   "metadata": {},
   "outputs": [
    {
     "data": {
      "text/plain": [
       "tensor(-35.1556)"
      ]
     },
     "execution_count": 30,
     "metadata": {},
     "output_type": "execute_result"
    }
   ],
   "source": [
    "res"
   ]
  },
  {
   "cell_type": "code",
   "execution_count": 31,
   "metadata": {},
   "outputs": [],
   "source": [
    "res_2 = -(b.log().sum(dim=1).mean() - a.log().sum(dim=1).mean())"
   ]
  },
  {
   "cell_type": "code",
   "execution_count": 32,
   "metadata": {},
   "outputs": [
    {
     "data": {
      "text/plain": [
       "tensor(35.1556)"
      ]
     },
     "execution_count": 32,
     "metadata": {},
     "output_type": "execute_result"
    }
   ],
   "source": [
    "res_2"
   ]
  },
  {
   "cell_type": "code",
   "execution_count": null,
   "metadata": {},
   "outputs": [],
   "source": []
  }
 ],
 "metadata": {
  "kernelspec": {
   "display_name": "Python 3 (ipykernel)",
   "language": "python",
   "name": "python3"
  },
  "language_info": {
   "codemirror_mode": {
    "name": "ipython",
    "version": 3
   },
   "file_extension": ".py",
   "mimetype": "text/x-python",
   "name": "python",
   "nbconvert_exporter": "python",
   "pygments_lexer": "ipython3",
   "version": "3.9.12"
  }
 },
 "nbformat": 4,
 "nbformat_minor": 1
}
