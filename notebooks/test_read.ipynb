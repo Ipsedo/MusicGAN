{
 "cells": [
  {
   "cell_type": "code",
   "execution_count": null,
   "id": "97120893",
   "metadata": {},
   "outputs": [],
   "source": [
    "import torch as th\n",
    "import matplotlib.pyplot as plt\n",
    "\n",
    "from music_gan.audio import (\n",
    "    bark_magn_scale,\n",
    "    magn_phase_to_wav,\n",
    "    stft_to_phase_magn,\n",
    "    wav_to_stft,\n",
    ")"
   ]
  },
  {
   "cell_type": "code",
   "execution_count": null,
   "id": "17cfd934",
   "metadata": {},
   "outputs": [],
   "source": [
    "wav_path = \"/home/samuel/Musique/Korn_all_flac/01. Here To Stay.flac\"\n",
    "nperseg = 1024\n",
    "nb_vec = 512\n",
    "stride = 256\n",
    "stft = wav_to_stft(wav_path, nperseg, stride)\n",
    "magn, phase = stft_to_phase_magn(stft, nb_vec, epsilon=1e-8)"
   ]
  },
  {
   "cell_type": "code",
   "execution_count": null,
   "id": "bde7a744",
   "metadata": {},
   "outputs": [],
   "source": [
    "out_wav_path = \"out_simpson.wav\"\n",
    "sample_rate = 44100\n",
    "magn_phase_to_wav(\n",
    "    th.stack([magn, phase], dim=1), out_wav_path, sample_rate, nperseg, stride, 1e-8\n",
    ")"
   ]
  },
  {
   "cell_type": "code",
   "execution_count": null,
   "id": "531914c5",
   "metadata": {},
   "outputs": [],
   "source": [
    "frame = 10"
   ]
  },
  {
   "cell_type": "code",
   "execution_count": null,
   "id": "74aea27f",
   "metadata": {},
   "outputs": [],
   "source": [
    "plt.matshow(phase[frame],cmap=\"plasma\")"
   ]
  },
  {
   "cell_type": "code",
   "execution_count": null,
   "id": "9e4f1322",
   "metadata": {},
   "outputs": [],
   "source": [
    "plt.matshow(magn[frame],cmap=\"plasma\")"
   ]
  },
  {
   "cell_type": "code",
   "execution_count": null,
   "id": "2f16749e",
   "metadata": {},
   "outputs": [],
   "source": [
    "phase.size()"
   ]
  },
  {
   "cell_type": "code",
   "execution_count": null,
   "id": "fdad94ef",
   "metadata": {},
   "outputs": [],
   "source": []
  },
  {
   "cell_type": "code",
   "execution_count": null,
   "id": "0f987544",
   "metadata": {},
   "outputs": [],
   "source": []
  },
  {
   "cell_type": "code",
   "execution_count": null,
   "id": "03e0b422",
   "metadata": {},
   "outputs": [],
   "source": []
  },
  {
   "cell_type": "code",
   "execution_count": null,
   "id": "313d354a",
   "metadata": {},
   "outputs": [],
   "source": []
  },
  {
   "cell_type": "code",
   "execution_count": null,
   "id": "8ca4ec79",
   "metadata": {},
   "outputs": [],
   "source": [
    "import numpy as np\n",
    "\n",
    "\n",
    "h = 100\n",
    "suite = th.linspace(0, 10, h)\n",
    "sin = th.sin(suite)\n",
    "\n",
    "\n",
    "derivee = th.gradient(sin, spacing=(h,))[0]\n",
    "#derivee = (sin[1:] - sin[:-1]) / h\n",
    "\n",
    "sd = derivee.cumsum(dim=0)\n",
    "\n",
    "\n",
    " \n",
    "pseudoSin = sin[0] + h * (sd - derivee / 2 - derivee[0] / 2) # f(0)=sin(0)=0 et f'(0)=cos(0)=1\n",
    "\n",
    "plt.plot(sin)\n",
    "plt.plot(pseudoSin)"
   ]
  },
  {
   "cell_type": "code",
   "execution_count": null,
   "id": "bfc9e997",
   "metadata": {},
   "outputs": [],
   "source": [
    "plt.plot(sin)\n",
    "plt.plot(derivee)"
   ]
  },
  {
   "cell_type": "code",
   "execution_count": null,
   "id": "c6bce6b5",
   "metadata": {},
   "outputs": [],
   "source": [
    "plt.plot(pseudoSin)"
   ]
  },
  {
   "cell_type": "code",
   "execution_count": null,
   "id": "4db6dbcd",
   "metadata": {},
   "outputs": [],
   "source": [
    "plt.plot(sin)"
   ]
  },
  {
   "cell_type": "code",
   "execution_count": null,
   "id": "144f9391",
   "metadata": {},
   "outputs": [],
   "source": [
    "sin"
   ]
  },
  {
   "cell_type": "code",
   "execution_count": null,
   "id": "4fe05ff0",
   "metadata": {},
   "outputs": [],
   "source": [
    "pseudoSin"
   ]
  },
  {
   "cell_type": "code",
   "execution_count": null,
   "id": "d34af214",
   "metadata": {},
   "outputs": [],
   "source": []
  }
 ],
 "metadata": {
  "kernelspec": {
   "display_name": "Python 3 (ipykernel)",
   "language": "python",
   "name": "python3"
  },
  "language_info": {
   "codemirror_mode": {
    "name": "ipython",
    "version": 3
   },
   "file_extension": ".py",
   "mimetype": "text/x-python",
   "name": "python",
   "nbconvert_exporter": "python",
   "pygments_lexer": "ipython3",
   "version": "3.10.9"
  }
 },
 "nbformat": 4,
 "nbformat_minor": 5
}
